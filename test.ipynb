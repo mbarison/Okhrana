{
 "cells": [
  {
   "cell_type": "code",
   "execution_count": null,
   "id": "45428975",
   "metadata": {},
   "outputs": [],
   "source": [
    "import pandas as pd\n",
    "\n",
    "from Deck import *\n",
    "from Requirement import Requirement\n",
    "\n",
    "deck = Deck(jokers=False)\n",
    "\n",
    "deck.shuffle()"
   ]
  },
  {
   "cell_type": "code",
   "execution_count": null,
   "id": "585a1ddb",
   "metadata": {},
   "outputs": [],
   "source": [
    "# let's do some stats\n",
    "\n",
    "rez = []\n",
    "for i in range(0,10000):\n",
    "    deck = Deck(jokers=False)\n",
    "\n",
    "    deck.shuffle()\n",
    "    hand = deck.deal_hand(3)\n",
    "\n",
    "    hand.add_cards(deck.deal_hand(3))\n",
    "\n",
    "    rez.append(hand)"
   ]
  },
  {
   "cell_type": "code",
   "execution_count": null,
   "id": "11d91351",
   "metadata": {},
   "outputs": [],
   "source": [
    "def get_stats(hand, rez, seeds):\n",
    "    n_c = hand.count_cards()\n",
    "    n_s = len(seeds)\n",
    "\n",
    "    req_dct = dict([(i, Requirement(i, seeds)) for i in range(3,40)])\n",
    "\n",
    "    rez_dct = {\"min_value\": [], \"prob\":[]}\n",
    "    for k, v in req_dct.items():\n",
    "        rez_dct[\"min_value\"].append(k)\n",
    "        rez_dct[\"prob\"].append(sum(map(lambda x: v.pass_req(x), rez))/len(rez))\n",
    "\n",
    "    pd.DataFrame(rez_dct).to_csv(f\"prob_{n_c}cards_{n_s}seeds.csv\", index=False)   "
   ]
  },
  {
   "cell_type": "code",
   "execution_count": null,
   "id": "c7ce22e9",
   "metadata": {},
   "outputs": [],
   "source": [
    "seeds =  [Seed.DIAMONDS, Seed.HEARTS, Seed.CLUBS, Seed.SPADES]\n",
    "\n",
    "get_stats(hand, rez, seeds)\n"
   ]
  },
  {
   "cell_type": "code",
   "execution_count": null,
   "id": "86c1510d",
   "metadata": {},
   "outputs": [],
   "source": [
    "seeds = [Seed.DIAMONDS, Seed.HEARTS, Seed.CLUBS]\n",
    "\n",
    "get_stats(hand, rez, seeds)"
   ]
  },
  {
   "cell_type": "code",
   "execution_count": null,
   "id": "15b6a119",
   "metadata": {},
   "outputs": [],
   "source": [
    "seeds = [Seed.DIAMONDS, Seed.HEARTS]\n",
    "\n",
    "get_stats(hand, rez, seeds)"
   ]
  },
  {
   "cell_type": "code",
   "execution_count": null,
   "id": "2b60a45b",
   "metadata": {},
   "outputs": [],
   "source": [
    "seeds = [Seed.DIAMONDS]\n",
    "\n",
    "get_stats(hand, rez, seeds)"
   ]
  }
 ],
 "metadata": {
  "kernelspec": {
   "display_name": "Python 3",
   "language": "python",
   "name": "python3"
  },
  "language_info": {
   "codemirror_mode": {
    "name": "ipython",
    "version": 3
   },
   "file_extension": ".py",
   "mimetype": "text/x-python",
   "name": "python",
   "nbconvert_exporter": "python",
   "pygments_lexer": "ipython3",
   "version": "3.13.3"
  }
 },
 "nbformat": 4,
 "nbformat_minor": 5
}
